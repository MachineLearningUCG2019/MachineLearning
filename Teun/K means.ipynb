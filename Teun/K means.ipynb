{
 "cells": [
  {
   "cell_type": "code",
   "execution_count": 1,
   "metadata": {},
   "outputs": [],
   "source": [
    "#i do not get the right centre values if I have random values for centre, but if I guess it works out\n",
    "import pandas as pd\n",
    "import matplotlib.pyplot as plt\n",
    "dataset = pd.read_csv(\"C:/Users/mailv/OneDrive/Documents/Machine_learning/Mall_Customers.csv\")\n",
    "X = dataset.iloc[:,[3,4]].values"
   ]
  },
  {
   "cell_type": "code",
   "execution_count": 2,
   "metadata": {},
   "outputs": [
    {
     "data": {
      "text/html": [
       "<div>\n",
       "<style scoped>\n",
       "    .dataframe tbody tr th:only-of-type {\n",
       "        vertical-align: middle;\n",
       "    }\n",
       "\n",
       "    .dataframe tbody tr th {\n",
       "        vertical-align: top;\n",
       "    }\n",
       "\n",
       "    .dataframe thead th {\n",
       "        text-align: right;\n",
       "    }\n",
       "</style>\n",
       "<table border=\"1\" class=\"dataframe\">\n",
       "  <thead>\n",
       "    <tr style=\"text-align: right;\">\n",
       "      <th></th>\n",
       "      <th>CustomerID</th>\n",
       "      <th>Age</th>\n",
       "      <th>Annual Income (k$)</th>\n",
       "      <th>Spending Score (1-100)</th>\n",
       "    </tr>\n",
       "  </thead>\n",
       "  <tbody>\n",
       "    <tr>\n",
       "      <th>count</th>\n",
       "      <td>200.000000</td>\n",
       "      <td>200.000000</td>\n",
       "      <td>200.000000</td>\n",
       "      <td>200.000000</td>\n",
       "    </tr>\n",
       "    <tr>\n",
       "      <th>mean</th>\n",
       "      <td>100.500000</td>\n",
       "      <td>38.850000</td>\n",
       "      <td>60.560000</td>\n",
       "      <td>50.200000</td>\n",
       "    </tr>\n",
       "    <tr>\n",
       "      <th>std</th>\n",
       "      <td>57.879185</td>\n",
       "      <td>13.969007</td>\n",
       "      <td>26.264721</td>\n",
       "      <td>25.823522</td>\n",
       "    </tr>\n",
       "    <tr>\n",
       "      <th>min</th>\n",
       "      <td>1.000000</td>\n",
       "      <td>18.000000</td>\n",
       "      <td>15.000000</td>\n",
       "      <td>1.000000</td>\n",
       "    </tr>\n",
       "    <tr>\n",
       "      <th>25%</th>\n",
       "      <td>50.750000</td>\n",
       "      <td>28.750000</td>\n",
       "      <td>41.500000</td>\n",
       "      <td>34.750000</td>\n",
       "    </tr>\n",
       "    <tr>\n",
       "      <th>50%</th>\n",
       "      <td>100.500000</td>\n",
       "      <td>36.000000</td>\n",
       "      <td>61.500000</td>\n",
       "      <td>50.000000</td>\n",
       "    </tr>\n",
       "    <tr>\n",
       "      <th>75%</th>\n",
       "      <td>150.250000</td>\n",
       "      <td>49.000000</td>\n",
       "      <td>78.000000</td>\n",
       "      <td>73.000000</td>\n",
       "    </tr>\n",
       "    <tr>\n",
       "      <th>max</th>\n",
       "      <td>200.000000</td>\n",
       "      <td>70.000000</td>\n",
       "      <td>137.000000</td>\n",
       "      <td>99.000000</td>\n",
       "    </tr>\n",
       "  </tbody>\n",
       "</table>\n",
       "</div>"
      ],
      "text/plain": [
       "       CustomerID         Age  Annual Income (k$)  Spending Score (1-100)\n",
       "count  200.000000  200.000000          200.000000              200.000000\n",
       "mean   100.500000   38.850000           60.560000               50.200000\n",
       "std     57.879185   13.969007           26.264721               25.823522\n",
       "min      1.000000   18.000000           15.000000                1.000000\n",
       "25%     50.750000   28.750000           41.500000               34.750000\n",
       "50%    100.500000   36.000000           61.500000               50.000000\n",
       "75%    150.250000   49.000000           78.000000               73.000000\n",
       "max    200.000000   70.000000          137.000000               99.000000"
      ]
     },
     "execution_count": 2,
     "metadata": {},
     "output_type": "execute_result"
    }
   ],
   "source": [
    "dataset.describe()"
   ]
  },
  {
   "cell_type": "code",
   "execution_count": 3,
   "metadata": {},
   "outputs": [
    {
     "data": {
      "text/html": [
       "<div>\n",
       "<style scoped>\n",
       "    .dataframe tbody tr th:only-of-type {\n",
       "        vertical-align: middle;\n",
       "    }\n",
       "\n",
       "    .dataframe tbody tr th {\n",
       "        vertical-align: top;\n",
       "    }\n",
       "\n",
       "    .dataframe thead th {\n",
       "        text-align: right;\n",
       "    }\n",
       "</style>\n",
       "<table border=\"1\" class=\"dataframe\">\n",
       "  <thead>\n",
       "    <tr style=\"text-align: right;\">\n",
       "      <th></th>\n",
       "      <th>CustomerID</th>\n",
       "      <th>Genre</th>\n",
       "      <th>Age</th>\n",
       "      <th>Annual Income (k$)</th>\n",
       "      <th>Spending Score (1-100)</th>\n",
       "    </tr>\n",
       "  </thead>\n",
       "  <tbody>\n",
       "    <tr>\n",
       "      <th>0</th>\n",
       "      <td>1</td>\n",
       "      <td>Male</td>\n",
       "      <td>19</td>\n",
       "      <td>15</td>\n",
       "      <td>39</td>\n",
       "    </tr>\n",
       "    <tr>\n",
       "      <th>1</th>\n",
       "      <td>2</td>\n",
       "      <td>Male</td>\n",
       "      <td>21</td>\n",
       "      <td>15</td>\n",
       "      <td>81</td>\n",
       "    </tr>\n",
       "    <tr>\n",
       "      <th>2</th>\n",
       "      <td>3</td>\n",
       "      <td>Female</td>\n",
       "      <td>20</td>\n",
       "      <td>16</td>\n",
       "      <td>6</td>\n",
       "    </tr>\n",
       "    <tr>\n",
       "      <th>3</th>\n",
       "      <td>4</td>\n",
       "      <td>Female</td>\n",
       "      <td>23</td>\n",
       "      <td>16</td>\n",
       "      <td>77</td>\n",
       "    </tr>\n",
       "    <tr>\n",
       "      <th>4</th>\n",
       "      <td>5</td>\n",
       "      <td>Female</td>\n",
       "      <td>31</td>\n",
       "      <td>17</td>\n",
       "      <td>40</td>\n",
       "    </tr>\n",
       "  </tbody>\n",
       "</table>\n",
       "</div>"
      ],
      "text/plain": [
       "   CustomerID   Genre  Age  Annual Income (k$)  Spending Score (1-100)\n",
       "0           1    Male   19                  15                      39\n",
       "1           2    Male   21                  15                      81\n",
       "2           3  Female   20                  16                       6\n",
       "3           4  Female   23                  16                      77\n",
       "4           5  Female   31                  17                      40"
      ]
     },
     "execution_count": 3,
     "metadata": {},
     "output_type": "execute_result"
    }
   ],
   "source": [
    "dataset.head()"
   ]
  },
  {
   "cell_type": "code",
   "execution_count": 4,
   "metadata": {
    "scrolled": true
   },
   "outputs": [
    {
     "data": {
      "text/plain": [
       "<matplotlib.collections.PathCollection at 0x21775e952e8>"
      ]
     },
     "execution_count": 4,
     "metadata": {},
     "output_type": "execute_result"
    },
    {
     "data": {
      "image/png": "[encoded data removed]",
      "text/plain": [
       "<Figure size 432x288 with 1 Axes>"
      ]
     },
     "metadata": {
      "needs_background": "light"
     },
     "output_type": "display_data"
    }
   ],
   "source": [
    "tempx = dataset.iloc[:,[3]].values\n",
    "tempy = dataset.iloc[:,[4]].values\n",
    "plt.scatter(tempx, tempy)"
   ]
  },
  {
   "cell_type": "code",
   "execution_count": 5,
   "metadata": {},
   "outputs": [],
   "source": [
    "def distance_to_centres (a,loc_centres): #a needs to have  x and y coordinates, centres dict is second input\n",
    "    list_five_distances=[]\n",
    "    hoi=list(loc_centres.values())\n",
    "    for i in range(5): #bc there are 5 centres\n",
    "        list_five_distances.append((((a[0]-hoi[i][0])**2 + (a[1]-hoi[i][1])**2)**0.5))\n",
    "    return list_five_distances\n"
   ]
  },
  {
   "cell_type": "code",
   "execution_count": 6,
   "metadata": {},
   "outputs": [],
   "source": [
    "def dictionary_distances(x,loc_centres): #all datapoints is input\n",
    "    points_and_distances={}\n",
    "    for i in range(1,201): #all customers\n",
    "        points_and_distances[i]=distance_to_centres((x[i]),loc_centres)\n",
    "    return points_and_distances #dictionary with all the datapoints and corresponding five distances to centre point\n",
    "\n"
   ]
  },
  {
   "cell_type": "code",
   "execution_count": 7,
   "metadata": {},
   "outputs": [],
   "source": [
    "#i do not know how to do this smoothly, like getting 5 lists if you have 5 centres and 3 if you have three\n",
    "def allocating_to_centre(result): #The output from dictionary distance must be the input here\n",
    "    centre1=[]\n",
    "    centre2=[]\n",
    "    centre3=[]\n",
    "    centre4=[]\n",
    "    centre5=[]\n",
    "    \n",
    "    for i in range (1,200):\n",
    "        values=result[i]\n",
    "        if (min(values))==values[0]:\n",
    "            centre1.append(i)\n",
    "        if min(values)==values[1]:\n",
    "            centre2.append(i)\n",
    "        if (min(values))==values[2]:\n",
    "            centre3.append(i)\n",
    "        if min(values)==values[3]:\n",
    "            centre4.append(i)       \n",
    "        if min(values)==values[4]:\n",
    "            centre5.append(i)    \n",
    "    list_of_centres=[]\n",
    "    list_of_centres.append(centre1)\n",
    "    list_of_centres.append(centre2)\n",
    "    list_of_centres.append(centre3)\n",
    "    list_of_centres.append(centre4)\n",
    "    list_of_centres.append(centre5)\n",
    "    return list_of_centres\n"
   ]
  },
  {
   "cell_type": "code",
   "execution_count": 8,
   "metadata": {},
   "outputs": [],
   "source": [
    "def updating_centres(centres): #the output from allocating to centre must be the input here, so step2\n",
    "    loc_centres={}\n",
    "    for i in range(len(centres)):\n",
    "        x=[]\n",
    "        y=[]\n",
    "#     if len(centres[i])==0: #here i will get an error if no point is allocated to a centre\n",
    "#          loc_centres[i]=centres[i]   #just return the thing that it originally was\n",
    "#     else:\n",
    "        for j in range(1,201):#len(centres[i])+1): \n",
    "            if j in centres[i]:\n",
    "                x.append(x_y_datapoints[j][0])\n",
    "                y.append(x_y_datapoints[j][1])\n",
    "        a=sum(x)/len(x)\n",
    "        b=sum(y)/len(y)\n",
    "        loc_centres[i]=a,b\n",
    "\n",
    "    return loc_centres\n",
    "    \n",
    "\n",
    "\n",
    "        "
   ]
  },
  {
   "cell_type": "code",
   "execution_count": 9,
   "metadata": {},
   "outputs": [],
   "source": [
    "import random \n",
    "import numpy as np\n",
    "\n",
    "random.seed(87)\n",
    "datapoints = dataset.iloc[:,[0]].values\n",
    "datapoints = datapoints.ravel()\n",
    "datapoints=datapoints.tolist()\n",
    "centre_ids=(random.sample(datapoints, k=5)) \n",
    "#k is amount of clusters and it does not matter if you tqke the location randomly or take a point's location\n",
    "\n"
   ]
  },
  {
   "cell_type": "code",
   "execution_count": 10,
   "metadata": {},
   "outputs": [
    {
     "name": "stdout",
     "output_type": "stream",
     "text": [
      "The inital guess is: {0: (37, 26), 1: (103, 85), 2: (40, 42), 3: (74, 72), 4: (28, 61)}\n"
     ]
    }
   ],
   "source": [
    "income = dataset['Annual Income (k$)']\n",
    "spending = dataset['Spending Score (1-100)']\n",
    "loc_centres={}\n",
    "for i in range(5):\n",
    "    w=centre_ids[i]\n",
    "    loc_centres[i]=income[w],spending[w]    \n",
    "print(\"The inital guess is:\",loc_centres)\n",
    "loc_centres={0: (25, 25), 1: (30, 85), 2: (40, 42), 3: (90, 90), 4: (120, 20)}\n",
    "x_y_datapoints={}\n",
    "for i in range(len(datapoints)):\n",
    "    x_y_datapoints[datapoints[i]]=income[i],spending[i]\n"
   ]
  },
  {
   "cell_type": "code",
   "execution_count": 11,
   "metadata": {},
   "outputs": [],
   "source": [
    "for i in range (20): #until convergence\n",
    "    step1=dictionary_distances(x_y_datapoints, loc_centres)\n",
    "    step2=allocating_to_centre(step1)\n",
    "    loc_centres=updating_centres(step2)\n"
   ]
  },
  {
   "cell_type": "code",
   "execution_count": 12,
   "metadata": {},
   "outputs": [
    {
     "data": {
      "text/plain": [
       "<function matplotlib.pyplot.show(*args, **kw)>"
      ]
     },
     "execution_count": 12,
     "metadata": {},
     "output_type": "execute_result"
    },
    {
     "data": {
      "image/png": "[encoded data removed]",
      "text/plain": [
       "<Figure size 432x288 with 1 Axes>"
      ]
     },
     "metadata": {
      "needs_background": "light"
     },
     "output_type": "display_data"
    }
   ],
   "source": [
    "hoi=list(loc_centres.values())\n",
    "t, w = zip(*hoi)\n",
    "\n",
    "plt.scatter(t, w, cmap='viridis')\n",
    "plt.xlim(0,140)\n",
    "plt.ylim(0,100)\n",
    "plt.scatter(tempx, tempy,cmap='magma')\n",
    "\n",
    "plt.show\n"
   ]
  },
  {
   "cell_type": "code",
   "execution_count": 13,
   "metadata": {},
   "outputs": [
    {
     "data": {
      "text/plain": [
       "{0: (26.304347826086957, 20.91304347826087),\n",
       " 1: (25.727272727272727, 79.36363636363636),\n",
       " 2: (55.2962962962963, 49.51851851851852),\n",
       " 3: (85.21052631578948, 82.10526315789474),\n",
       " 4: (88.2, 17.114285714285714)}"
      ]
     },
     "execution_count": 13,
     "metadata": {},
     "output_type": "execute_result"
    }
   ],
   "source": [
    "loc_centres"
   ]
  },
  {
   "cell_type": "code",
   "execution_count": null,
   "metadata": {},
   "outputs": [],
   "source": []
  }
 ],
 "metadata": {
  "kernelspec": {
   "display_name": "Python 3",
   "language": "python",
   "name": "python3"
  },
  "language_info": {
   "codemirror_mode": {
    "name": "ipython",
    "version": 3
   },
   "file_extension": ".py",
   "mimetype": "text/x-python",
   "name": "python",
   "nbconvert_exporter": "python",
   "pygments_lexer": "ipython3",
   "version": "3.7.1"
  }
 },
 "nbformat": 4,
 "nbformat_minor": 2
}
