{
 "cells": [
  {
   "cell_type": "code",
   "execution_count": 1,
   "metadata": {},
   "outputs": [
    {
     "data": {
      "text/plain": [
       "'\\n1-    Write a function that calculates the entropy in the dice experiment.\\n\\n2-    Build a Decision Tree using the Titanic dataset with cross-validation method. Try cv=3, 5 and 9 and print out the accuracy scores. \\n'"
      ]
     },
     "execution_count": 1,
     "metadata": {},
     "output_type": "execute_result"
    }
   ],
   "source": [
    "\"\"\"\n",
    "1-    Write a function that calculates the entropy in the dice experiment.\n",
    "Awesome article: https://towardsdatascience.com/entropy-is-a-measure-of-uncertainty-e2c000301c2c\n",
    "\n",
    "2-    Build a Decision Tree using the Titanic dataset with cross-validation method. Try cv=3, 5 and 9 and print out the accuracy scores. \n",
    "\"\"\" \n"
   ]
  },
  {
   "cell_type": "code",
   "execution_count": 217,
   "metadata": {},
   "outputs": [
    {
     "data": {
      "text/plain": [
       "2.584962500721156"
      ]
     },
     "execution_count": 217,
     "metadata": {},
     "output_type": "execute_result"
    }
   ],
   "source": [
    "from scipy.stats import entropy\n",
    "import math\n",
    "# print(entropy(1/6, base=2))\n",
    "entropy_value=0\n",
    "# for i in range(6):\n",
    "#     entropy_value+= -(1/6)*\n",
    "-1*math.log(1/6 , 2) \n",
    "# entropy_value"
   ]
  },
  {
   "cell_type": "code",
   "execution_count": 162,
   "metadata": {},
   "outputs": [],
   "source": [
    "import graphviz\n",
    "import pandas as pd\n",
    "from sklearn import tree\n",
    "from sklearn.model_selection import train_test_split\n",
    "from sklearn.model_selection import cross_val_score\n",
    "\n",
    "dataset=pd.read_csv(\"C:/Users/mailv/OneDrive/Documents/Machine_learning/titanic.csv\")\n",
    "\n"
   ]
  },
  {
   "cell_type": "code",
   "execution_count": 163,
   "metadata": {
    "scrolled": true
   },
   "outputs": [
    {
     "data": {
      "text/html": [
       "<div>\n",
       "<style scoped>\n",
       "    .dataframe tbody tr th:only-of-type {\n",
       "        vertical-align: middle;\n",
       "    }\n",
       "\n",
       "    .dataframe tbody tr th {\n",
       "        vertical-align: top;\n",
       "    }\n",
       "\n",
       "    .dataframe thead th {\n",
       "        text-align: right;\n",
       "    }\n",
       "</style>\n",
       "<table border=\"1\" class=\"dataframe\">\n",
       "  <thead>\n",
       "    <tr style=\"text-align: right;\">\n",
       "      <th></th>\n",
       "      <th>PassengerId</th>\n",
       "      <th>Survived</th>\n",
       "      <th>Pclass</th>\n",
       "      <th>Name</th>\n",
       "      <th>Sex</th>\n",
       "      <th>Age</th>\n",
       "      <th>SibSp</th>\n",
       "      <th>Parch</th>\n",
       "      <th>Ticket</th>\n",
       "      <th>Fare</th>\n",
       "      <th>Cabin</th>\n",
       "      <th>Embarked</th>\n",
       "    </tr>\n",
       "  </thead>\n",
       "  <tbody>\n",
       "    <tr>\n",
       "      <th>0</th>\n",
       "      <td>1</td>\n",
       "      <td>0</td>\n",
       "      <td>3</td>\n",
       "      <td>Braund, Mr. Owen Harris</td>\n",
       "      <td>male</td>\n",
       "      <td>22.0</td>\n",
       "      <td>1</td>\n",
       "      <td>0</td>\n",
       "      <td>A/5 21171</td>\n",
       "      <td>7.2500</td>\n",
       "      <td>NaN</td>\n",
       "      <td>S</td>\n",
       "    </tr>\n",
       "    <tr>\n",
       "      <th>1</th>\n",
       "      <td>2</td>\n",
       "      <td>1</td>\n",
       "      <td>1</td>\n",
       "      <td>Cumings, Mrs. John Bradley (Florence Briggs Th...</td>\n",
       "      <td>female</td>\n",
       "      <td>38.0</td>\n",
       "      <td>1</td>\n",
       "      <td>0</td>\n",
       "      <td>PC 17599</td>\n",
       "      <td>71.2833</td>\n",
       "      <td>C85</td>\n",
       "      <td>C</td>\n",
       "    </tr>\n",
       "    <tr>\n",
       "      <th>2</th>\n",
       "      <td>3</td>\n",
       "      <td>1</td>\n",
       "      <td>3</td>\n",
       "      <td>Heikkinen, Miss. Laina</td>\n",
       "      <td>female</td>\n",
       "      <td>26.0</td>\n",
       "      <td>0</td>\n",
       "      <td>0</td>\n",
       "      <td>STON/O2. 3101282</td>\n",
       "      <td>7.9250</td>\n",
       "      <td>NaN</td>\n",
       "      <td>S</td>\n",
       "    </tr>\n",
       "    <tr>\n",
       "      <th>3</th>\n",
       "      <td>4</td>\n",
       "      <td>1</td>\n",
       "      <td>1</td>\n",
       "      <td>Futrelle, Mrs. Jacques Heath (Lily May Peel)</td>\n",
       "      <td>female</td>\n",
       "      <td>35.0</td>\n",
       "      <td>1</td>\n",
       "      <td>0</td>\n",
       "      <td>113803</td>\n",
       "      <td>53.1000</td>\n",
       "      <td>C123</td>\n",
       "      <td>S</td>\n",
       "    </tr>\n",
       "    <tr>\n",
       "      <th>4</th>\n",
       "      <td>5</td>\n",
       "      <td>0</td>\n",
       "      <td>3</td>\n",
       "      <td>Allen, Mr. William Henry</td>\n",
       "      <td>male</td>\n",
       "      <td>35.0</td>\n",
       "      <td>0</td>\n",
       "      <td>0</td>\n",
       "      <td>373450</td>\n",
       "      <td>8.0500</td>\n",
       "      <td>NaN</td>\n",
       "      <td>S</td>\n",
       "    </tr>\n",
       "  </tbody>\n",
       "</table>\n",
       "</div>"
      ],
      "text/plain": [
       "   PassengerId  Survived  Pclass  \\\n",
       "0            1         0       3   \n",
       "1            2         1       1   \n",
       "2            3         1       3   \n",
       "3            4         1       1   \n",
       "4            5         0       3   \n",
       "\n",
       "                                                Name     Sex   Age  SibSp  \\\n",
       "0                            Braund, Mr. Owen Harris    male  22.0      1   \n",
       "1  Cumings, Mrs. John Bradley (Florence Briggs Th...  female  38.0      1   \n",
       "2                             Heikkinen, Miss. Laina  female  26.0      0   \n",
       "3       Futrelle, Mrs. Jacques Heath (Lily May Peel)  female  35.0      1   \n",
       "4                           Allen, Mr. William Henry    male  35.0      0   \n",
       "\n",
       "   Parch            Ticket     Fare Cabin Embarked  \n",
       "0      0         A/5 21171   7.2500   NaN        S  \n",
       "1      0          PC 17599  71.2833   C85        C  \n",
       "2      0  STON/O2. 3101282   7.9250   NaN        S  \n",
       "3      0            113803  53.1000  C123        S  \n",
       "4      0            373450   8.0500   NaN        S  "
      ]
     },
     "execution_count": 163,
     "metadata": {},
     "output_type": "execute_result"
    }
   ],
   "source": [
    "dataset.head()"
   ]
  },
  {
   "cell_type": "code",
   "execution_count": 235,
   "metadata": {},
   "outputs": [
    {
     "data": {
      "text/plain": [
       "[<matplotlib.lines.Line2D at 0x1dba36c5630>]"
      ]
     },
     "execution_count": 235,
     "metadata": {},
     "output_type": "execute_result"
    },
    {
     "data": {
      "image/png": "[encoded data removed]",
      "text/plain": [
       "<Figure size 432x288 with 1 Axes>"
      ]
     },
     "metadata": {
      "needs_background": "light"
     },
     "output_type": "display_data"
    }
   ],
   "source": [
    "from sklearn.neighbors.kde import KernelDensity\n",
    "from matplotlib.pyplot import plot\n",
    "\n",
    "a = np.array(cleanedList).reshape(-1, 1)\n",
    "kde = KernelDensity(kernel='gaussian', bandwidth=3).fit(a)\n",
    "s = np.linspace(0,50)\n",
    "e = kde.score_samples(s.reshape(-1,1))\n",
    "plot(s, e)"
   ]
  },
  {
   "cell_type": "code",
   "execution_count": 236,
   "metadata": {},
   "outputs": [
    {
     "name": "stdout",
     "output_type": "stream",
     "text": [
      "NaN      177\n",
      "24.00     30\n",
      "22.00     27\n",
      "18.00     26\n",
      "28.00     25\n",
      "        ... \n",
      "36.50      1\n",
      "55.50      1\n",
      "66.00      1\n",
      "23.50      1\n",
      "0.42       1\n",
      "Name: Age, Length: 89, dtype: int64\n"
     ]
    }
   ],
   "source": [
    "count_age = dataset['Age'].value_counts(dropna=False)\n",
    "print(count_age)\n",
    "dict_prob = count_age.to_dict()\n",
    "prob_unnorm = list(dict_prob.values())\n",
    "keys = list(dict_prob.keys())\n",
    "keys = keys[1:]\n",
    "probabilities = []\n",
    "for i in range(1, len(prob_unnorm)): #start at 1 so you skip the NaN\n",
    "    probabilities.append(prob_unnorm[i]/(891-177))\n",
    "        \n",
    "ages = np.random.choice(keys, 177, p=probabilities)\n"
   ]
  },
  {
   "cell_type": "code",
   "execution_count": 237,
   "metadata": {},
   "outputs": [],
   "source": [
    "Age=list(dataset['Age'])\n",
    "New_Age=[]\n",
    "item=0\n",
    "for i in range(len(Age)):\n",
    "    if np.isnan(Age[i]) == True:\n",
    "        New_Age.append(ages[item])\n",
    "        item+=1\n",
    "    else: \n",
    "        New_Age.append(Age[i])\n",
    "        \n",
    "New_Age=pd.Series(New_Age)"
   ]
  },
  {
   "cell_type": "code",
   "execution_count": 270,
   "metadata": {},
   "outputs": [],
   "source": [
    "sex = pd.Series(dataset['Sex'].replace(['female','male'],[int(0),int(1)]))\n",
    "Pclass=(dataset['Pclass'])\n",
    "Age=dataset['Age']\n",
    "SibSp = dataset['SibSp']\n",
    "features = pd.concat([sex, Pclass, New_Age, SibSp], axis=1)\n"
   ]
  },
  {
   "cell_type": "code",
   "execution_count": 2,
   "metadata": {},
   "outputs": [
    {
     "ename": "SyntaxError",
     "evalue": "invalid syntax (<ipython-input-2-0cef76db6449>, line 6)",
     "output_type": "error",
     "traceback": [
      "\u001b[1;36m  File \u001b[1;32m\"<ipython-input-2-0cef76db6449>\"\u001b[1;36m, line \u001b[1;32m6\u001b[0m\n\u001b[1;33m    score5 = cross_val_score(clf, X, y, cv=5)\u001b[0m\n\u001b[1;37m         ^\u001b[0m\n\u001b[1;31mSyntaxError\u001b[0m\u001b[1;31m:\u001b[0m invalid syntax\n"
     ]
    }
   ],
   "source": [
    "X=features\n",
    "y=dataset['Survived']\n",
    "# X_train, y_train, X_test, y_test = train_test_split(X, y, test_size=0.3, random_state=1)\n",
    "clf = tree.DecisionTreeClassifier(criterion=\"entropy\")\n",
    "score3 = round(cross_val_score(clf, X, y, cv=3)\n",
    "score5 = cross_val_score(clf, X, y, cv=5)\n",
    "score9 = cross_val_score(clf, X, y, cv=9)\n",
    "\n",
    "\n",
    "\n",
    "\n",
    "print('Scores for cv = 3 are:', score3,'and mean is:', score3.mean())\n",
    "print('Scores for cv = 5 are:', score5,'and mean is:', score5.mean())\n",
    "print('Scores for cv = 9 are:', score9,'and mean is:', score9.mean())\n",
    "\n",
    "\n",
    "\n"
   ]
  },
  {
   "cell_type": "code",
   "execution_count": 257,
   "metadata": {
    "scrolled": true
   },
   "outputs": [
    {
     "name": "stdout",
     "output_type": "stream",
     "text": [
      "Score with the entire dataset = 0.31\n"
     ]
    }
   ],
   "source": [
    "from sklearn.ensemble import RandomForestRegressor\n",
    "estimator = RandomForestRegressor(random_state=0)\n",
    "score = cross_val_score(estimator, X, y, cv=10).mean()\n",
    "print(\"Score with the entire dataset = %.2f\" % score)"
   ]
  },
  {
   "cell_type": "code",
   "execution_count": 268,
   "metadata": {},
   "outputs": [
    {
     "data": {
      "text/plain": [
       "array([[45.95427057, 21.15157868, 48.44195362, 40.22972774, 24.10422721,\n",
       "        48.19436928, 29.86125892, 41.30560255, 28.2840225 , 30.43536867,\n",
       "        38.99924954, 54.65953859, 10.65023099, 11.87717349, 37.49145526,\n",
       "        21.6687525 , 26.88442315, 24.39179512, 34.86176113, 24.27878726,\n",
       "        49.12111866, 28.7547791 ,  1.81663941, 49.38337602, 51.96504967,\n",
       "        31.15284647, 29.09891998, 29.57890066, 17.77282469, 35.00938245,\n",
       "        27.55611714, 12.86841643, 28.84501563, 15.24086764, 43.84280591,\n",
       "        38.43726555, 27.85521791,  9.76886413, 20.63564721, 30.70353402,\n",
       "        20.69963346, 25.86627027, 19.5109405 , 50.03679477, 18.48322171,\n",
       "        33.76817055, 39.81828802,  8.33604115, 28.32665088, 22.7003134 ,\n",
       "        22.17168139, 37.63301238, 37.50127089, 47.61325049, 44.37552236,\n",
       "        23.45612871, 21.77127252, 22.20061916, 30.32474745, 36.35617656,\n",
       "        34.47827762, 39.90645997, 30.20290692,  9.85017956, 55.65385631,\n",
       "        33.92849352, 16.68242961, 29.89544227, 30.33846714, 49.5080812 ,\n",
       "        54.68523518, 44.74566464, 21.59564867, 42.32103403,  9.9644256 ,\n",
       "        52.35610603, -2.64365981, 30.43431427, 30.57450486, 22.81552161,\n",
       "         3.84073922, 29.06996325, 46.66833166, 36.93465235,  7.68722345,\n",
       "        23.60724001, 26.32318028, 53.07764231, 36.7930291 , 22.1656347 ,\n",
       "        51.25113289, 49.81272179, -2.10178669, 16.94078378, 62.66682371,\n",
       "        58.71289612, 32.43680759, 23.82301324,  5.88608959,  5.80446327,\n",
       "        -0.17404457, 62.79233117, 42.32132664, 18.10029316, 37.78650923,\n",
       "        33.51114081, 30.74657415, 54.50611701, 64.41446444, 42.43541513,\n",
       "        21.69617847, 13.81350984, 12.46761088, 26.10489355, 43.38157737,\n",
       "        34.96641295, 78.26912581, 19.33772498, 62.88913583, 15.02285451,\n",
       "        12.0390317 ,  9.71744592, 29.8147186 , 20.92422872,  9.78682337,\n",
       "        31.83037548, 39.40687115,  8.37168684, 28.8178527 ,  9.17951091,\n",
       "        25.03527617, 21.1129263 , 35.61912004,  9.41654527, 23.56977171,\n",
       "        33.02324749, 26.03558998, 22.58506868, 18.12640208, 39.29149373,\n",
       "        28.20425355, 24.03550303, 44.70355105, 48.12386376, -1.70697383,\n",
       "        47.90228012, 23.75704945, 22.83619152, 17.45104369, 38.30695902,\n",
       "        23.18438948, 35.98391807, 19.21901102, 22.89142816, 20.51628773,\n",
       "        38.35986654, 49.39712648, 30.93522946, 35.7211939 , 57.10148498,\n",
       "        24.95641214, 25.6295814 , 38.60982937, 33.74487512, 19.65718575,\n",
       "        44.3786633 , 28.79994749, 38.01944689, 31.95141794, 24.69376372,\n",
       "        42.06592749, 39.80476299, 15.54314016, 31.26916396, 52.89352304,\n",
       "        26.84059789, 34.56117089, -7.15404175, 63.09367373, 32.15477467,\n",
       "        29.23898311, 13.99185349,  4.74184195, 26.60457577, 22.0169647 ,\n",
       "        13.97996956, 15.31121866, 20.5573656 , 58.19956453,  2.22837695,\n",
       "        22.45871451,  9.39565645, 26.7637585 , 17.91535131, 40.2634608 ,\n",
       "        -6.73607771, 48.05601859, 24.53676774, 44.13122515, 36.40541535,\n",
       "        18.8158364 , 20.00533219, 46.11023877, 22.08604162, 24.369915  ,\n",
       "        37.97250938, 28.23480008, 28.20655621, 55.21696689, 33.00182845,\n",
       "        23.90468071, 30.36688156,  3.96274384, 34.19119388, 22.94399316,\n",
       "        25.46003505, 28.73681055, -1.1479706 , 20.66920623, 34.32825408,\n",
       "         1.1249399 , 37.76504783, 35.83872191, 30.56411113, 32.98580356,\n",
       "        50.3970251 , 34.89453715, 16.2074639 ,  4.03872713, 55.74363224,\n",
       "        27.8019212 , 37.84931761, 29.73446877, 24.26337641, 49.24162836,\n",
       "        65.82071998, 38.38850877, 26.49219369, 11.92809137, 39.87835676,\n",
       "        16.2497859 , 40.30365645, 32.01446336, 16.90905104, 32.38962479,\n",
       "         4.35380002, 39.18834926, 30.18030442, 11.09000798, 32.54745511,\n",
       "        41.57597186, 28.29055851, 29.54987426, 25.47371229, 26.00333154,\n",
       "        21.05237974, 19.76530009, 28.75396037, 23.58193104, 36.75633105,\n",
       "        39.97695131, 37.80697102, 35.34102579, 40.29343305, 44.26883707,\n",
       "        26.99839208, 51.6530909 , 41.17914319,  7.89823461, 47.19972019,\n",
       "        13.96198769, 13.04803907, 49.43165481, 52.88796232, 43.12238665,\n",
       "        27.5477622 , 47.57895843, 32.61550284, 21.49495322, 11.98347989,\n",
       "         8.38113925, 22.28081138, 47.84289851, 43.29406681,  7.7472416 ,\n",
       "        37.94989584, 45.51473104, 32.44622309, 19.46965704, 19.6450021 ,\n",
       "        18.38432914, 30.33260102, 17.94016044, 49.43669893, 45.18400056,\n",
       "        41.15948855, 11.19599739, 12.12419124, 28.56480485, 36.94451287,\n",
       "        28.19641535, 44.75960228, 25.1066045 , 26.75014254, 10.64687862,\n",
       "        47.40350007, 20.64303669, 16.19003563, 39.31437348, 43.33959244,\n",
       "        47.44452477, 20.64183748, 57.9827262 , 25.44974043, 21.31033241,\n",
       "        24.26273716, 27.33563589,  4.75196871, 60.78831562, 34.41989963,\n",
       "        44.55555113, 24.78183423, 19.07932491,  5.73116064, 48.5210298 ,\n",
       "         8.34599435, 15.73734188, -3.23567998, 18.9760246 , 20.93726059,\n",
       "        24.84132591, 50.51050344, 37.37038453, 41.9231719 , 20.37263738,\n",
       "        20.80536574, 46.47437601, 32.51751596, 48.40618448, 32.28513205,\n",
       "        51.87619492, 33.04743243, 25.46092995, 45.34338324, 33.32851102,\n",
       "        30.45968685, 18.42096971, -5.30110778, 36.56744649, 25.48833815,\n",
       "        29.81865093,  3.90491922, 54.49889805, 31.39908944, 32.22005846,\n",
       "        44.60734369, 34.0633329 , 31.38286155, 33.61706482, 17.07915832,\n",
       "        32.83999751, 52.87541083, 28.09235041, 18.17749688, 28.37792849,\n",
       "        48.55577992, 21.80751866, 31.82722041, 21.14952863, 33.17353358,\n",
       "        33.41303803, 35.25685525, 37.86498387, 51.44066961, 21.12863402,\n",
       "        24.51099788,  9.72516407, 30.21081052, 39.24383958, 16.09451923,\n",
       "        22.70396736, 38.41036883, 54.57615471, 41.7878556 , 42.94007243,\n",
       "        41.2444063 , 32.66582515, 21.94411752, 32.24233471, 25.16705527,\n",
       "        37.06589077, 20.38804203, 31.92650243, 27.77151826, 24.01238733,\n",
       "        26.01135962, 10.31996132,  4.33428186, 32.96498378, 42.19175281,\n",
       "        14.73734765, 17.72954443, 31.88113371, 31.85532143,  3.01202328,\n",
       "        18.31554596, 38.45751186, 44.02849218, 10.04359625, 19.23650232,\n",
       "        35.19708706, 35.15422325, 41.85034177, 33.02179263, 32.5518087 ,\n",
       "        22.06354521,  5.57297615, 55.46136904, 41.85230215, 29.33922278,\n",
       "        49.35082833, 56.48463386, 61.43182162,  6.31340244, 39.3522783 ,\n",
       "        33.42560479, 29.73842638, 22.60921651, 31.99367641, 44.40523128,\n",
       "        25.0523484 , 40.67035972, 35.09646355, -3.8807241 , 23.56490349,\n",
       "        23.27674538, 44.92550371, 25.02569837, 11.23430506, 42.38345755,\n",
       "         6.9335352 ,  5.73578838, 35.00436248, 16.26140041, 38.40344785,\n",
       "        23.64558351, 43.86959086, -2.62736712, 35.54347047, 37.29811302,\n",
       "        33.01388101, 76.04005442, 30.08296456,  6.84661716, 24.79052188,\n",
       "        28.37025504, 39.82195231, 37.58958462, 27.11797359, 24.55537675,\n",
       "        26.72711065, 18.91835373, 25.38565444, 16.22377745, 29.46158295,\n",
       "        34.17825944, 25.17890254,  3.36292558, 35.72842166,  1.29616116,\n",
       "         9.29608521, -9.98396556, 42.7894218 , 43.81682849, 25.92695395,\n",
       "        39.23384036, 12.19035298, 10.29941843, 27.49383039, 33.29521485,\n",
       "        22.41523694, 38.16686671, 26.3635396 , 29.82113155, 41.79133416,\n",
       "        21.8815683 , 22.37674744, 28.68164154,  8.09433511, 33.24289632,\n",
       "        47.16619277, 11.84769258, 57.12958857, 49.28194011, 34.34376445,\n",
       "        37.63965596, 26.1134397 , 26.51498526, 26.81128174, 23.48114178,\n",
       "        47.13792694, 12.89821958, 24.29567825, 35.64522063, -2.99110834,\n",
       "        25.94058812, 15.60759757, 27.37876758, 37.29723226, 31.93572587,\n",
       "        36.03656896, 18.72513498, 24.85337176, 28.52703167, -1.18421124,\n",
       "        42.75664613, 17.5124401 , 25.18373813, 21.13525116, 26.5367217 ,\n",
       "        50.32005805, 45.74153062, 18.62446132, 34.09686193, 19.23618913,\n",
       "        40.91072889, 12.4995452 , 40.87401308, 28.80344758, 36.67404843,\n",
       "        52.36851142, 18.06871559, 23.19674464, 20.23496282, 33.32401635,\n",
       "        26.36653061, 33.68723698, 32.92493075, 29.09882176, 31.96169461,\n",
       "        31.83716241, 11.77515423, 33.98808504, 21.87988266, 30.05847609,\n",
       "         2.35020116, 55.18168387, 30.49868329, 33.30220519, 43.77486366,\n",
       "        36.05781872, 13.2117672 , 28.95554848, 17.9317082 , 24.09434832,\n",
       "        37.38645662, 27.99441771, 34.30504912, 42.85315596,  1.42914138,\n",
       "        29.99713679, 21.77365401, 46.84467643, 27.5851313 , 10.76829977,\n",
       "        39.97005165, 38.70423702, 21.26524822, 10.06671062, 29.88495123,\n",
       "        23.24565638, 30.06733377, 19.35082305, 21.90523124, 34.99177464,\n",
       "        50.39862604, 51.87455923, 41.05200883, 46.94049389, 38.97665809,\n",
       "        33.67623271, 29.12102133, 25.80161262, 29.97070841, 22.70894885,\n",
       "        17.13524806, 56.66898574, 50.45084719, 65.57764079, 25.63856402,\n",
       "        30.47617815, 33.33401454,  3.12638235, 18.5083105 , 11.03482686,\n",
       "        40.87795888, 37.65740409, 33.22122182, 38.25441411, 29.41234204,\n",
       "        34.0088729 , 25.66263677, 19.94850025, 40.99890213, 63.65345287,\n",
       "        11.05227176, 58.79697687, 16.19071665, -1.75498031, 30.14280198,\n",
       "        16.73063863,  6.54753132, 25.45610452, 29.2230356 , 21.5035167 ,\n",
       "        46.52791538, 41.61172749, 42.40277337, 42.2821915 , 34.43476969,\n",
       "        23.86255285, 41.93555161, 36.93613989, 21.499817  , 22.39556077,\n",
       "        26.47266833, 46.96275765, 52.32178769, 33.64216595,  6.22015779,\n",
       "        12.66457819, 45.96176764, 10.71204129, 18.99557882, 55.08217387,\n",
       "        53.79627434, 15.56315064, 28.38659562, 26.31356127, 42.36716768,\n",
       "        26.4668682 , 37.73237014, 36.51618831, 25.16645718, 27.42599104,\n",
       "        57.28924713, 18.6471037 , 47.96219598, 27.03859002, 38.05938863,\n",
       "        32.32177564, -3.63442092, 29.7917593 , 33.59083087, 23.76537497,\n",
       "        36.77111547, 19.09945188, 21.66266658, 22.21229623, 12.22325825,\n",
       "        53.27112262, 53.71640032, 20.49094379, 28.78923026, 47.71141555,\n",
       "        38.94813973, 41.9943951 , 40.23747049, 33.8312276 , 10.93371195,\n",
       "        24.68509804, 21.7739399 , 47.77113123, 18.36153152, 33.08446448,\n",
       "        34.44222741,  5.27449673,  7.75890528, 25.89750292, 40.00553043,\n",
       "        27.98505778, 47.63541501, 44.3550035 , 46.09043244, 60.0886116 ,\n",
       "        26.04698662, 16.64346329, 16.80610246, 15.55941596, 28.45391943,\n",
       "        18.03827359, 39.82087896, 15.36072068, 22.74854345, 46.07460732,\n",
       "        25.5208314 , 20.83753383, 16.836631  , 45.8340205 , 31.25386686,\n",
       "        40.90982737, 31.54703955, 36.20201773, 17.66372867, 12.18419229,\n",
       "         8.5557649 , 13.30794434, 45.92432683, 38.49175581, 30.29802841,\n",
       "        41.00763462, 11.9947027 , 64.80109769, 26.53202548, 44.66677088,\n",
       "        10.51739699, 51.06556557, 45.39420841, 49.25753274, 32.81719978,\n",
       "        35.09625421,  6.86202284, 35.63860231,  8.25962029, 39.22006534,\n",
       "        18.70689074, 12.85319353, 30.20645273, 29.3188897 , 36.88995138,\n",
       "        12.87408772, 29.37067593, 11.78948846, 15.30445918, 29.15588738,\n",
       "        46.90059376,  5.68388426, 27.87485681, 44.08899381, 28.00778157,\n",
       "        22.80837258, 56.58429357,  5.04488177, 30.51916923, 12.46977675,\n",
       "        38.82793029, 27.98696295, 50.85972002, 25.56526404, 43.3002001 ,\n",
       "        33.29921319, 33.20863208, 34.53685781, 47.29696139, 53.47293923,\n",
       "        25.46596338, 44.80594941, 19.79029851, 56.84688409,  2.04102367,\n",
       "        25.22113984, 35.79935684, 28.99295219, 22.40408364, 12.14715858,\n",
       "        50.86032104, 15.95863886, 38.70748262, 42.91617648, 30.75400141,\n",
       "        46.58115608, 52.11361169, 10.46156459, 14.53564367, 50.70158448,\n",
       "        42.19725374, 50.83111926,  8.91963994, 33.30029792, 42.52551064,\n",
       "        24.43054714, 18.11555497, -0.69838126, 38.19566126, 48.14121538,\n",
       "        37.33607806, 31.44332004, 26.46477048, 39.07032229, 12.51920009,\n",
       "        22.55274516, 15.73545213, 22.36474292, 34.19297389, 24.36453431,\n",
       "         0.66762233, 51.44317687, 25.92730398, 61.53857388, 39.8503712 ,\n",
       "        34.69485304, 19.68442779, 36.19809666, 26.72051582, 30.71508771,\n",
       "         3.06256322, 25.01765131, 49.42292016,  2.27388509, 20.55923566,\n",
       "        26.67571135,  7.46104259, 24.40714844, 31.63270277, 37.23131563,\n",
       "        24.95177825, 26.4557267 , 33.37927297, 36.41239243, 34.94937957,\n",
       "         3.88648658, 52.39213219, 33.40294816, 45.30178042, 13.9481818 ,\n",
       "        10.91810369, 17.54034592, 51.99609227, 25.23425718, 24.82600224,\n",
       "        10.43175581, 32.00272168, 50.86005793, 20.33632093, 27.36466724,\n",
       "        22.72904038, 42.632535  , 13.39523706, 49.98544179, 59.59498929,\n",
       "        47.23589665, 27.83343805, 44.29698212, 19.64282118, 20.97462041,\n",
       "        15.12448769, 17.96721491, 31.96424217, 48.60177173, 28.35410811,\n",
       "         0.88545545, 14.04141629, 48.26341702,  8.60547523, 33.09116954,\n",
       "        59.7517719 , 15.00524838, 13.75617433, 22.51520243, 43.57978328,\n",
       "        56.50353053, 22.39535413,  4.71193071, 10.69906433, 35.56592858,\n",
       "        20.16488128, 33.27772475, 19.15816497, 49.85006492, 32.92530376,\n",
       "        25.24476832, 26.9746484 , 27.11936887, 21.61436411, 38.67313106,\n",
       "        19.42566272, 27.19175922, 14.31199461,  0.93211515, 24.69141881,\n",
       "        15.19003869,  2.59013463, 42.51593301, 48.36811846, 19.59981361,\n",
       "        38.55571606, 38.24124905, 24.7393577 , 37.22026214, 43.68784696,\n",
       "        34.79119445]])"
      ]
     },
     "execution_count": 268,
     "metadata": {},
     "output_type": "execute_result"
    }
   ],
   "source": [
    "np.random.normal(loc = np.mean(dataset[\"Age\"]), scale = np.std(dataset[\"Age\"]), size = (1, len(dataset)))"
   ]
  },
  {
   "cell_type": "code",
   "execution_count": null,
   "metadata": {},
   "outputs": [],
   "source": []
  }
 ],
 "metadata": {
  "kernelspec": {
   "display_name": "Python 3",
   "language": "python",
   "name": "python3"
  },
  "language_info": {
   "codemirror_mode": {
    "name": "ipython",
    "version": 3
   },
   "file_extension": ".py",
   "mimetype": "text/x-python",
   "name": "python",
   "nbconvert_exporter": "python",
   "pygments_lexer": "ipython3",
   "version": "3.7.1"
  }
 },
 "nbformat": 4,
 "nbformat_minor": 2
}
