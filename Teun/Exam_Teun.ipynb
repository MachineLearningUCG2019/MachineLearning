{
 "cells": [
  {
   "cell_type": "code",
   "execution_count": 1,
   "metadata": {},
   "outputs": [],
   "source": [
    "#1 A)\n",
    "list_probs=[[1/6,1/6,1/6,1/6,1/6,1/6],[0.5, 0.5],[1/3, 1/3,1/3],\n",
    "            [0.25, 0.25, 0.25, 0.25],[1/8, 1/8, 1/8, 1/8, 1/8, 1/8, 1/8, 1/8]]\n",
    "\n",
    "import math as m"
   ]
  },
  {
   "cell_type": "code",
   "execution_count": 2,
   "metadata": {},
   "outputs": [
    {
     "data": {
      "text/plain": [
       "[3.0, 2.584962500721156, 2.0, 1.584962500721156, 1.0]"
      ]
     },
     "execution_count": 2,
     "metadata": {},
     "output_type": "execute_result"
    }
   ],
   "source": [
    "def entropy_calculator(probabilities):\n",
    "    entropies=[]\n",
    "    for i in range(len(probabilities)):\n",
    "        individual_scores=0\n",
    "        for j in range(len(probabilities[i])):       \n",
    "            individual_scores+=-probabilities[i][j]*m.log(probabilities[i][j], 2)\n",
    "        entropies.append(individual_scores)\n",
    "    return sorted(entropies, reverse=True)\n",
    "        \n",
    "entropy_calculator(list_probs)"
   ]
  },
  {
   "cell_type": "code",
   "execution_count": 3,
   "metadata": {},
   "outputs": [
    {
     "data": {
      "image/png": "[encoded data removed]",
      "text/plain": [
       "<Figure size 432x288 with 1 Axes>"
      ]
     },
     "metadata": {
      "needs_background": "light"
     },
     "output_type": "display_data"
    }
   ],
   "source": [
    "#1 B)\n",
    "import numpy as np\n",
    "from numpy import linalg as LA\n",
    "import matplotlib.pyplot as plt\n",
    "from numpy.linalg import eig\n",
    "\n",
    "#Generating random data and seeing what it looks like \n",
    "\n",
    "X = np.random.normal(5, 2, 50)\n",
    "\n",
    "rng = np.random.RandomState(2)\n",
    "y = X + rng.rand(50)\n",
    "\n",
    "plt.scatter(X, y)\n",
    "\n",
    "array= np.column_stack((X, y))"
   ]
  },
  {
   "cell_type": "code",
   "execution_count": 4,
   "metadata": {},
   "outputs": [
    {
     "data": {
      "image/png": "[encoded data removed]",
      "text/plain": [
       "<Figure size 432x288 with 1 Axes>"
      ]
     },
     "metadata": {
      "needs_background": "light"
     },
     "output_type": "display_data"
    },
    {
     "name": "stdout",
     "output_type": "stream",
     "text": [
      "The eigen vectors are: [[ 0.71124481 -0.70294439]\n",
      " [ 0.70294439  0.71124481]]\n"
     ]
    }
   ],
   "source": [
    "def PCA (array):\n",
    "    means=np.mean(array.T, axis=1)\n",
    "    centering = array - means\n",
    "    cov_matrix = np.cov(centering.T)\n",
    "    eigen_values, eigen_vectors= LA.eig(cov_matrix)\n",
    "    origin = [0, 0]\n",
    "\n",
    "    vector1 = eigen_vectors[:,0]\n",
    "    vector2 = eigen_vectors[:,1]\n",
    "\n",
    "\n",
    "    plt.quiver(*origin, *vector1, color=['r'], scale=10)\n",
    "    plt.quiver(*origin, *vector2, color=['b'], scale=10)\n",
    "    plt.show()\n",
    "    return print(\"The eigen vectors are:\", eigen_vectors)\n",
    "\n",
    "PCA(array)"
   ]
  },
  {
   "cell_type": "code",
   "execution_count": 5,
   "metadata": {
    "scrolled": true
   },
   "outputs": [
    {
     "data": {
      "text/html": [
       "<div>\n",
       "<style scoped>\n",
       "    .dataframe tbody tr th:only-of-type {\n",
       "        vertical-align: middle;\n",
       "    }\n",
       "\n",
       "    .dataframe tbody tr th {\n",
       "        vertical-align: top;\n",
       "    }\n",
       "\n",
       "    .dataframe thead th {\n",
       "        text-align: right;\n",
       "    }\n",
       "</style>\n",
       "<table border=\"1\" class=\"dataframe\">\n",
       "  <thead>\n",
       "    <tr style=\"text-align: right;\">\n",
       "      <th></th>\n",
       "      <th>PassengerId</th>\n",
       "      <th>Survived</th>\n",
       "      <th>Pclass</th>\n",
       "      <th>Name</th>\n",
       "      <th>Sex</th>\n",
       "      <th>Age</th>\n",
       "      <th>SibSp</th>\n",
       "      <th>Parch</th>\n",
       "      <th>Ticket</th>\n",
       "      <th>Fare</th>\n",
       "      <th>Cabin</th>\n",
       "      <th>Embarked</th>\n",
       "    </tr>\n",
       "  </thead>\n",
       "  <tbody>\n",
       "    <tr>\n",
       "      <th>0</th>\n",
       "      <td>1</td>\n",
       "      <td>0</td>\n",
       "      <td>3</td>\n",
       "      <td>Braund, Mr. Owen Harris</td>\n",
       "      <td>male</td>\n",
       "      <td>22.0</td>\n",
       "      <td>1</td>\n",
       "      <td>0</td>\n",
       "      <td>A/5 21171</td>\n",
       "      <td>7.2500</td>\n",
       "      <td>NaN</td>\n",
       "      <td>S</td>\n",
       "    </tr>\n",
       "    <tr>\n",
       "      <th>1</th>\n",
       "      <td>2</td>\n",
       "      <td>1</td>\n",
       "      <td>1</td>\n",
       "      <td>Cumings, Mrs. John Bradley (Florence Briggs Th...</td>\n",
       "      <td>female</td>\n",
       "      <td>38.0</td>\n",
       "      <td>1</td>\n",
       "      <td>0</td>\n",
       "      <td>PC 17599</td>\n",
       "      <td>71.2833</td>\n",
       "      <td>C85</td>\n",
       "      <td>C</td>\n",
       "    </tr>\n",
       "    <tr>\n",
       "      <th>2</th>\n",
       "      <td>3</td>\n",
       "      <td>1</td>\n",
       "      <td>3</td>\n",
       "      <td>Heikkinen, Miss. Laina</td>\n",
       "      <td>female</td>\n",
       "      <td>26.0</td>\n",
       "      <td>0</td>\n",
       "      <td>0</td>\n",
       "      <td>STON/O2. 3101282</td>\n",
       "      <td>7.9250</td>\n",
       "      <td>NaN</td>\n",
       "      <td>S</td>\n",
       "    </tr>\n",
       "    <tr>\n",
       "      <th>3</th>\n",
       "      <td>4</td>\n",
       "      <td>1</td>\n",
       "      <td>1</td>\n",
       "      <td>Futrelle, Mrs. Jacques Heath (Lily May Peel)</td>\n",
       "      <td>female</td>\n",
       "      <td>35.0</td>\n",
       "      <td>1</td>\n",
       "      <td>0</td>\n",
       "      <td>113803</td>\n",
       "      <td>53.1000</td>\n",
       "      <td>C123</td>\n",
       "      <td>S</td>\n",
       "    </tr>\n",
       "    <tr>\n",
       "      <th>4</th>\n",
       "      <td>5</td>\n",
       "      <td>0</td>\n",
       "      <td>3</td>\n",
       "      <td>Allen, Mr. William Henry</td>\n",
       "      <td>male</td>\n",
       "      <td>35.0</td>\n",
       "      <td>0</td>\n",
       "      <td>0</td>\n",
       "      <td>373450</td>\n",
       "      <td>8.0500</td>\n",
       "      <td>NaN</td>\n",
       "      <td>S</td>\n",
       "    </tr>\n",
       "  </tbody>\n",
       "</table>\n",
       "</div>"
      ],
      "text/plain": [
       "   PassengerId  Survived  Pclass  \\\n",
       "0            1         0       3   \n",
       "1            2         1       1   \n",
       "2            3         1       3   \n",
       "3            4         1       1   \n",
       "4            5         0       3   \n",
       "\n",
       "                                                Name     Sex   Age  SibSp  \\\n",
       "0                            Braund, Mr. Owen Harris    male  22.0      1   \n",
       "1  Cumings, Mrs. John Bradley (Florence Briggs Th...  female  38.0      1   \n",
       "2                             Heikkinen, Miss. Laina  female  26.0      0   \n",
       "3       Futrelle, Mrs. Jacques Heath (Lily May Peel)  female  35.0      1   \n",
       "4                           Allen, Mr. William Henry    male  35.0      0   \n",
       "\n",
       "   Parch            Ticket     Fare Cabin Embarked  \n",
       "0      0         A/5 21171   7.2500   NaN        S  \n",
       "1      0          PC 17599  71.2833   C85        C  \n",
       "2      0  STON/O2. 3101282   7.9250   NaN        S  \n",
       "3      0            113803  53.1000  C123        S  \n",
       "4      0            373450   8.0500   NaN        S  "
      ]
     },
     "execution_count": 5,
     "metadata": {},
     "output_type": "execute_result"
    }
   ],
   "source": [
    "#2\n",
    "import pandas as pd\n",
    "from sklearn import tree\n",
    "from sklearn.model_selection import cross_val_score\n",
    "\n",
    "dataset=pd.read_csv(\"C:/Users/mailv/OneDrive/Documents/Machine_learning/titanic.csv\")\n",
    "\n",
    "dataset.head() #see what the data looks like "
   ]
  },
  {
   "cell_type": "code",
   "execution_count": 6,
   "metadata": {},
   "outputs": [
    {
     "name": "stdout",
     "output_type": "stream",
     "text": [
      "NaN      177\n",
      "24.00     30\n",
      "22.00     27\n",
      "18.00     26\n",
      "28.00     25\n",
      "        ... \n",
      "36.50      1\n",
      "55.50      1\n",
      "66.00      1\n",
      "23.50      1\n",
      "0.42       1\n",
      "Name: Age, Length: 89, dtype: int64\n"
     ]
    }
   ],
   "source": [
    "#See how probabilities are distributed\n",
    "count_age = dataset['Age'].value_counts(dropna=False)\n",
    "print(count_age) #Get some insight as to what the distribution looks like\n",
    "dict_prob = count_age.to_dict()\n",
    "prob_unnorm = list(dict_prob.values())\n",
    "keys = list(dict_prob.keys())\n",
    "keys = keys[1:]\n",
    "probabilities = []\n",
    "for i in range(1, len(prob_unnorm)): #start at 1 so you skip the NaN\n",
    "    probabilities.append(prob_unnorm[i]/(891-177))\n",
    "        \n",
    "ages = np.random.choice(keys, 177, p=probabilities) #pick  177 times (for every missing age) from the known probabilities \n",
    "                                                    #and get the associated key\n"
   ]
  },
  {
   "cell_type": "code",
   "execution_count": 7,
   "metadata": {},
   "outputs": [],
   "source": [
    "#filling the gaps with the generated data\n",
    "Age=list(dataset['Age']) \n",
    "New_Age=[]\n",
    "item=0\n",
    "for i in range(len(Age)):\n",
    "    if np.isnan(Age[i]) == True:\n",
    "        New_Age.append(ages[item])\n",
    "        item+=1\n",
    "    else: \n",
    "        New_Age.append(Age[i])\n",
    "        \n",
    "New_Age=pd.Series(New_Age)"
   ]
  },
  {
   "cell_type": "code",
   "execution_count": 8,
   "metadata": {},
   "outputs": [],
   "source": [
    "sex = pd.Series(dataset['Sex'].replace(['female','male'],[int(0),int(1)]))\n",
    "Pclass=(dataset['Pclass'])\n",
    "SibSp = dataset['SibSp']\n",
    "features = pd.concat([sex, Pclass, New_Age, SibSp], axis=1) #making it into a dataframe again\n"
   ]
  },
  {
   "cell_type": "code",
   "execution_count": 9,
   "metadata": {},
   "outputs": [
    {
     "name": "stdout",
     "output_type": "stream",
     "text": [
      "Scores (in percentages) for cv = 6 are: ['69.8', '79.2', '78.5', '81.8', '75.0', '79.1'] and mean is: 77.2\n",
      "Scores (in percentages) for cv = 8 are: ['75.0', '70.5', '81.2', '76.6', '77.5', '76.6', '78.4', '77.5'] and mean is: 76.7\n"
     ]
    }
   ],
   "source": [
    "X=features\n",
    "y=dataset['Survived']\n",
    "\n",
    "clf = tree.DecisionTreeClassifier(criterion=\"entropy\") #gini and entropy give similar results\n",
    "\n",
    "score6 = list(cross_val_score(clf, X, y, cv=6))\n",
    "score8 = cross_val_score(clf, X, y, cv=8)\n",
    "\n",
    "score6_avg = round(sum(score6)/ len(score6) *100, 1)\n",
    "\n",
    "#good scores because if I use round() I get weird output like 81.1000000000001\n",
    "\n",
    "good_scores6=[]\n",
    "for i in range(len(score6)):\n",
    "    good_scores6.append(('%.1f' % round(score6[i]*100, 1)))\n",
    "\n",
    "score8_avg = round(sum(score8)/ len(score8) *100, 1)\n",
    "good_scores8=[]    \n",
    "for i in range(len(score8)):\n",
    "    good_scores8.append(('%.1f' % round(score8[i]*100, 1))) \n",
    "    \n",
    "\n",
    "print('Scores (in percentages) for cv = 6 are:', good_scores6,'and mean is:', score6_avg)\n",
    "print('Scores (in percentages) for cv = 8 are:', good_scores8,'and mean is:', score8_avg)"
   ]
  },
  {
   "cell_type": "code",
   "execution_count": null,
   "metadata": {},
   "outputs": [],
   "source": []
  }
 ],
 "metadata": {
  "kernelspec": {
   "display_name": "Python 3",
   "language": "python",
   "name": "python3"
  },
  "language_info": {
   "codemirror_mode": {
    "name": "ipython",
    "version": 3
   },
   "file_extension": ".py",
   "mimetype": "text/x-python",
   "name": "python",
   "nbconvert_exporter": "python",
   "pygments_lexer": "ipython3",
   "version": "3.7.1"
  }
 },
 "nbformat": 4,
 "nbformat_minor": 2
}
