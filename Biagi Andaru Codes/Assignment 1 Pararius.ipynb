{
 "cells": [
  {
   "cell_type": "code",
   "execution_count": 2,
   "metadata": {},
   "outputs": [],
   "source": [
    "import pandas as pd\n",
    "import numpy as np\n",
    "import matplotlib.pyplot as plt\n",
    "%matplotlib inline"
   ]
  },
  {
   "cell_type": "code",
   "execution_count": 3,
   "metadata": {},
   "outputs": [],
   "source": [
    "dataset = pd.read_json('/Users/NBAndaru/Documents/UCG/Machine_learning/pararius.json')"
   ]
  },
  {
   "cell_type": "code",
   "execution_count": 5,
   "metadata": {},
   "outputs": [
    {
     "data": {
      "text/html": [
       "<div>\n",
       "<style scoped>\n",
       "    .dataframe tbody tr th:only-of-type {\n",
       "        vertical-align: middle;\n",
       "    }\n",
       "\n",
       "    .dataframe tbody tr th {\n",
       "        vertical-align: top;\n",
       "    }\n",
       "\n",
       "    .dataframe thead th {\n",
       "        text-align: right;\n",
       "    }\n",
       "</style>\n",
       "<table border=\"1\" class=\"dataframe\">\n",
       "  <thead>\n",
       "    <tr style=\"text-align: right;\">\n",
       "      <th></th>\n",
       "      <th>Neighbourhood</th>\n",
       "      <th>Postal code</th>\n",
       "      <th>Street</th>\n",
       "      <th>Available from</th>\n",
       "      <th>Offered since</th>\n",
       "      <th>markets</th>\n",
       "      <th>long</th>\n",
       "      <th>lat</th>\n",
       "      <th>rent</th>\n",
       "      <th>area</th>\n",
       "      <th>bedrooms</th>\n",
       "      <th>from_center</th>\n",
       "      <th>Province</th>\n",
       "    </tr>\n",
       "  </thead>\n",
       "  <tbody>\n",
       "    <tr>\n",
       "      <td>0</td>\n",
       "      <td>Binnenstad</td>\n",
       "      <td>9712 HV</td>\n",
       "      <td>Grote Markt</td>\n",
       "      <td>Immediately</td>\n",
       "      <td>&gt; 3 months</td>\n",
       "      <td>{'Albert Heijn': 412.0, 'ALDI-Markt': 139.0, '...</td>\n",
       "      <td>6.567619</td>\n",
       "      <td>53.219301</td>\n",
       "      <td>1150</td>\n",
       "      <td>83</td>\n",
       "      <td>1</td>\n",
       "      <td>67.890664</td>\n",
       "      <td>NaN</td>\n",
       "    </tr>\n",
       "    <tr>\n",
       "      <td>1</td>\n",
       "      <td>Binnenstad</td>\n",
       "      <td>9712 HV</td>\n",
       "      <td>Grote Markt</td>\n",
       "      <td>Immediately</td>\n",
       "      <td>&gt; 3 months</td>\n",
       "      <td>{'Albert Heijn': 415.0, 'ALDI-Markt': 142.0, '...</td>\n",
       "      <td>6.567664</td>\n",
       "      <td>53.219308</td>\n",
       "      <td>1150</td>\n",
       "      <td>100</td>\n",
       "      <td>1</td>\n",
       "      <td>68.090112</td>\n",
       "      <td>NaN</td>\n",
       "    </tr>\n",
       "    <tr>\n",
       "      <td>2</td>\n",
       "      <td>Binnenstad</td>\n",
       "      <td>9712 AC</td>\n",
       "      <td>Hoge der A</td>\n",
       "      <td>Immediately</td>\n",
       "      <td>&gt; 3 months</td>\n",
       "      <td>{'Albert Heijn': 246.0, 'ALDI-Markt': 433.0, '...</td>\n",
       "      <td>6.559815</td>\n",
       "      <td>53.217461</td>\n",
       "      <td>2600</td>\n",
       "      <td>45</td>\n",
       "      <td>1</td>\n",
       "      <td>552.107837</td>\n",
       "      <td>NaN</td>\n",
       "    </tr>\n",
       "    <tr>\n",
       "      <td>3</td>\n",
       "      <td>Schilders- en Zeeheldenwijk</td>\n",
       "      <td>9718 BR</td>\n",
       "      <td>Westerbinnensingel</td>\n",
       "      <td>Immediately</td>\n",
       "      <td>&gt; 3 months</td>\n",
       "      <td>{'Albert Heijn': 349.0, 'ALDI-Markt': 549.0, '...</td>\n",
       "      <td>6.558107</td>\n",
       "      <td>53.217176</td>\n",
       "      <td>950</td>\n",
       "      <td>49</td>\n",
       "      <td>1</td>\n",
       "      <td>670.487830</td>\n",
       "      <td>NaN</td>\n",
       "    </tr>\n",
       "    <tr>\n",
       "      <td>4</td>\n",
       "      <td>Herewegwijk en Helpman</td>\n",
       "      <td>9725 AJ</td>\n",
       "      <td>Hereweg</td>\n",
       "      <td>Immediately</td>\n",
       "      <td>&gt; 3 months</td>\n",
       "      <td>{'Plus': 411.0, 'Coop': 585.0, 'ALDI-Markt': 8...</td>\n",
       "      <td>6.573487</td>\n",
       "      <td>53.207209</td>\n",
       "      <td>1100</td>\n",
       "      <td>65</td>\n",
       "      <td>1</td>\n",
       "      <td>1334.082848</td>\n",
       "      <td>NaN</td>\n",
       "    </tr>\n",
       "  </tbody>\n",
       "</table>\n",
       "</div>"
      ],
      "text/plain": [
       "                  Neighbourhood Postal code              Street  \\\n",
       "0                   Binnenstad      9712 HV         Grote Markt   \n",
       "1                   Binnenstad      9712 HV         Grote Markt   \n",
       "2                   Binnenstad      9712 AC          Hoge der A   \n",
       "3  Schilders- en Zeeheldenwijk      9718 BR  Westerbinnensingel   \n",
       "4       Herewegwijk en Helpman      9725 AJ             Hereweg   \n",
       "\n",
       "  Available from Offered since  \\\n",
       "0    Immediately    > 3 months   \n",
       "1    Immediately    > 3 months   \n",
       "2    Immediately    > 3 months   \n",
       "3    Immediately    > 3 months   \n",
       "4    Immediately    > 3 months   \n",
       "\n",
       "                                             markets      long        lat  \\\n",
       "0  {'Albert Heijn': 412.0, 'ALDI-Markt': 139.0, '...  6.567619  53.219301   \n",
       "1  {'Albert Heijn': 415.0, 'ALDI-Markt': 142.0, '...  6.567664  53.219308   \n",
       "2  {'Albert Heijn': 246.0, 'ALDI-Markt': 433.0, '...  6.559815  53.217461   \n",
       "3  {'Albert Heijn': 349.0, 'ALDI-Markt': 549.0, '...  6.558107  53.217176   \n",
       "4  {'Plus': 411.0, 'Coop': 585.0, 'ALDI-Markt': 8...  6.573487  53.207209   \n",
       "\n",
       "   rent  area  bedrooms  from_center Province  \n",
       "0  1150    83         1    67.890664      NaN  \n",
       "1  1150   100         1    68.090112      NaN  \n",
       "2  2600    45         1   552.107837      NaN  \n",
       "3   950    49         1   670.487830      NaN  \n",
       "4  1100    65         1  1334.082848      NaN  "
      ]
     },
     "execution_count": 5,
     "metadata": {},
     "output_type": "execute_result"
    }
   ],
   "source": [
    "dataset.head()"
   ]
  },
  {
   "cell_type": "code",
   "execution_count": 11,
   "metadata": {},
   "outputs": [],
   "source": [
    "x = dataset[['area','bedrooms','from_center']]\n",
    "y = dataset['rent']"
   ]
  },
  {
   "cell_type": "code",
   "execution_count": 12,
   "metadata": {},
   "outputs": [],
   "source": [
    "from sklearn.model_selection import train_test_split\n",
    "x_train, x_test, y_train, y_test = train_test_split(x, y, test_size=0.2, random_state=0)"
   ]
  },
  {
   "cell_type": "code",
   "execution_count": 13,
   "metadata": {},
   "outputs": [
    {
     "data": {
      "text/plain": [
       "LinearRegression(copy_X=True, fit_intercept=True, n_jobs=None, normalize=False)"
      ]
     },
     "execution_count": 13,
     "metadata": {},
     "output_type": "execute_result"
    }
   ],
   "source": [
    "from sklearn.linear_model import LinearRegression\n",
    "regressor = LinearRegression() \n",
    "regressor.fit(x_train, y_train)"
   ]
  },
  {
   "cell_type": "code",
   "execution_count": 14,
   "metadata": {},
   "outputs": [
    {
     "data": {
      "text/html": [
       "<div>\n",
       "<style scoped>\n",
       "    .dataframe tbody tr th:only-of-type {\n",
       "        vertical-align: middle;\n",
       "    }\n",
       "\n",
       "    .dataframe tbody tr th {\n",
       "        vertical-align: top;\n",
       "    }\n",
       "\n",
       "    .dataframe thead th {\n",
       "        text-align: right;\n",
       "    }\n",
       "</style>\n",
       "<table border=\"1\" class=\"dataframe\">\n",
       "  <thead>\n",
       "    <tr style=\"text-align: right;\">\n",
       "      <th></th>\n",
       "      <th>Coefficient</th>\n",
       "    </tr>\n",
       "  </thead>\n",
       "  <tbody>\n",
       "    <tr>\n",
       "      <td>area</td>\n",
       "      <td>7.040913</td>\n",
       "    </tr>\n",
       "    <tr>\n",
       "      <td>bedrooms</td>\n",
       "      <td>-36.698534</td>\n",
       "    </tr>\n",
       "    <tr>\n",
       "      <td>from_center</td>\n",
       "      <td>-0.070918</td>\n",
       "    </tr>\n",
       "  </tbody>\n",
       "</table>\n",
       "</div>"
      ],
      "text/plain": [
       "             Coefficient\n",
       "area            7.040913\n",
       "bedrooms      -36.698534\n",
       "from_center    -0.070918"
      ]
     },
     "execution_count": 14,
     "metadata": {},
     "output_type": "execute_result"
    }
   ],
   "source": [
    "coeff_df = pd.DataFrame(regressor.coef_, x.columns, columns =['Coefficient'])\n",
    "coeff_df"
   ]
  },
  {
   "cell_type": "code",
   "execution_count": null,
   "metadata": {},
   "outputs": [],
   "source": []
  },
  {
   "cell_type": "code",
   "execution_count": null,
   "metadata": {},
   "outputs": [],
   "source": []
  },
  {
   "cell_type": "code",
   "execution_count": null,
   "metadata": {},
   "outputs": [],
   "source": []
  }
 ],
 "metadata": {
  "kernelspec": {
   "display_name": "Python 3",
   "language": "python",
   "name": "python3"
  },
  "language_info": {
   "codemirror_mode": {
    "name": "ipython",
    "version": 3
   },
   "file_extension": ".py",
   "mimetype": "text/x-python",
   "name": "python",
   "nbconvert_exporter": "python",
   "pygments_lexer": "ipython3",
   "version": "3.7.4"
  }
 },
 "nbformat": 4,
 "nbformat_minor": 2
}
