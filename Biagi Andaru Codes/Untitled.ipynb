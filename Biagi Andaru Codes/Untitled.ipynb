{
 "cells": [
  {
   "cell_type": "code",
   "execution_count": 1,
   "metadata": {},
   "outputs": [],
   "source": [
    "f = open('titanic.csv')"
   ]
  },
  {
   "cell_type": "code",
   "execution_count": 2,
   "metadata": {},
   "outputs": [],
   "source": [
    "feature1=[]\n",
    "target=[]\n",
    "for i in f:\n",
    "    try:\n",
    "        t=i.split(',')\n",
    "        target.append(int(t[1]))\n",
    "        feature1.append(t[5])\n",
    "    except:\n",
    "        pass"
   ]
  },
  {
   "cell_type": "code",
   "execution_count": 3,
   "metadata": {},
   "outputs": [
    {
     "name": "stdout",
     "output_type": "stream",
     "text": [
      "male 0\n",
      "(233, 81, 468, 109)\n",
      "0.7867564534231201\n"
     ]
    }
   ],
   "source": [
    "def CM(feature, target):\n",
    "    TP = 0\n",
    "    TN = 0\n",
    "    FP = 0\n",
    "    FN = 0\n",
    "    print(feature[0],target[0])\n",
    "    for i,j in zip(feature,target):\n",
    "        if i == 'female' and j==1: TP+=1\n",
    "        if i == 'female' and j==0: FP+=1\n",
    "        if i == 'male' and j==0: FN+=1\n",
    "        if i == 'male' and j==1: TN+=1\n",
    "    return TP,FP,FN,TN\n",
    "cme = CM(feature1, target)\n",
    "print(cme)\n",
    "accuracy = (cme[0]+cme[2])/sum(cme)\n",
    "print(accuracy)"
   ]
  },
  {
   "cell_type": "code",
   "execution_count": null,
   "metadata": {},
   "outputs": [],
   "source": [
    "f = open('titanic.csv')\n",
    "def CM1(feature, target):\n",
    "    \n"
   ]
  }
 ],
 "metadata": {
  "kernelspec": {
   "display_name": "Python 3",
   "language": "python",
   "name": "python3"
  },
  "language_info": {
   "codemirror_mode": {
    "name": "ipython",
    "version": 3
   },
   "file_extension": ".py",
   "mimetype": "text/x-python",
   "name": "python",
   "nbconvert_exporter": "python",
   "pygments_lexer": "ipython3",
   "version": "3.7.4"
  }
 },
 "nbformat": 4,
 "nbformat_minor": 2
}
