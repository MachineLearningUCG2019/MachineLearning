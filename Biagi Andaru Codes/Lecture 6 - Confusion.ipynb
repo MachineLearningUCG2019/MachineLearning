{
 "cells": [
  {
   "cell_type": "code",
   "execution_count": 1,
   "metadata": {},
   "outputs": [
    {
     "data": {
      "text/plain": [
       "<matplotlib.collections.PathCollection at 0x229596f9588>"
      ]
     },
     "execution_count": 1,
     "metadata": {},
     "output_type": "execute_result"
    }
   ],
   "source": [
    "import numpy as np\n",
    "import pandas as pd\n",
    "import matplotlib.pyplot as plt\n",
    "rng = np.random.RandomState (42)\n",
    "x = 10 * rng.rand(500)\n",
    "y = 2*x+rng.randn(500)\n",
    "plt.scatter(x,y)"
   ]
  },
  {
   "cell_type": "code",
   "execution_count": 2,
   "metadata": {},
   "outputs": [],
   "source": [
    "m_current = 0\n",
    "b_current = 0\n",
    "epochs = 1000\n",
    "learning_rate = 0.01\n",
    "N = float(len(y))\n",
    "\n",
    "def linear_regression(x, y, m_current, b_current, epochs, learning_rate):\n",
    "     for i in range(epochs):\n",
    "          y_current = (m_current * x) + b_current\n",
    "          cost = sum([data**2 for data in (y-y_current)]) / N\n",
    "          m_gradient = -(2/N) * sum(x * (y - y_current))\n",
    "          b_gradient = -(2/N) * sum(y - y_current)\n",
    "          m_current = m_current - (learning_rate * m_gradient) #update m\n",
    "          b_current = b_current - (learning_rate * b_gradient) #update b\n",
    "     return m_current, b_current, cost"
   ]
  },
  {
   "cell_type": "code",
   "execution_count": 3,
   "metadata": {},
   "outputs": [
    {
     "name": "stdout",
     "output_type": "stream",
     "text": [
      "2.0226642539666413 -0.10479242080694572\n"
     ]
    }
   ],
   "source": [
    "for i in range(epochs):\n",
    "     y_current = (m_current * x) + b_current\n",
    "     cost = sum([data**2 for data in (y-y_current)]) / N\n",
    "     m_gradient = -(2/N) * sum(x * (y - y_current))\n",
    "     b_gradient = -(2/N) * sum(y - y_current)\n",
    "     m_current = m_current - (learning_rate * m_gradient)\n",
    "     b_current = b_current - (learning_rate * b_gradient)\n",
    "print(m_current,b_current)"
   ]
  },
  {
   "cell_type": "code",
   "execution_count": 4,
   "metadata": {},
   "outputs": [
    {
     "data": {
      "text/plain": [
       "<function matplotlib.pyplot.show(*args, **kw)>"
      ]
     },
     "execution_count": 4,
     "metadata": {},
     "output_type": "execute_result"
    },
    {
     "data": {
      "image/png": "[encoded data removed]",
      "text/plain": [
       "<Figure size 432x288 with 1 Axes>"
      ]
     },
     "metadata": {
      "needs_background": "light"
     },
     "output_type": "display_data"
    }
   ],
   "source": [
    "y_pred = m_current*x+b_current\n",
    "plt.scatter(x,y)\n",
    "plt.plot([min(x),max(x)],[min(y_pred),max(y_pred)], color='red')\n",
    "plt.show"
   ]
  },
  {
   "cell_type": "code",
   "execution_count": null,
   "metadata": {},
   "outputs": [],
   "source": []
  },
  {
   "cell_type": "code",
   "execution_count": null,
   "metadata": {},
   "outputs": [],
   "source": []
  }
 ],
 "metadata": {
  "kernelspec": {
   "display_name": "Python 3",
   "language": "python",
   "name": "python3"
  },
  "language_info": {
   "codemirror_mode": {
    "name": "ipython",
    "version": 3
   },
   "file_extension": ".py",
   "mimetype": "text/x-python",
   "name": "python",
   "nbconvert_exporter": "python",
   "pygments_lexer": "ipython3",
   "version": "3.7.4"
  }
 },
 "nbformat": 4,
 "nbformat_minor": 2
}
