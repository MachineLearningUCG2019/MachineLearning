{
 "cells": [
  {
   "cell_type": "code",
   "execution_count": 4,
   "metadata": {},
   "outputs": [
    {
     "name": "stdout",
     "output_type": "stream",
     "text": [
      "Gaussian Naive Bayes model accuracy(in %): 95.0\n"
     ]
    }
   ],
   "source": [
    "# load the iris dataset \n",
    "from sklearn.datasets import load_iris \n",
    "iris = load_iris() \n",
    "# store the feature matrix (X) and response vector (y) \n",
    "X = iris.data #This gets the data from the dataset\n",
    "y = iris.target #This gets the targets from the dataset, they are already organized within the dataset\n",
    "# splitting X and y into training and testing sets \n",
    "from sklearn.model_selection import train_test_split \n",
    "X_train, X_test, y_train, y_test = train_test_split(X, y, test_size=0.4, random_state=1)\n",
    "#random_state=1 means that you will get the same output everytime\n",
    "# training the model on training set \n",
    "from sklearn.naive_bayes import GaussianNB \n",
    "#GaussianNB evaluates the training data. It looks at one feature such as pedal width \n",
    "#and sees what the probability is of it being a certain type of flower. Given all features' probabilities, it tries to predict \n",
    "#which flower it is\n",
    "gnb = GaussianNB() \n",
    "gnb.fit(X_train, y_train) \n",
    "# making predictions on the testing set \n",
    "y_pred = gnb.predict(X_test) \n",
    "# comparing actual response values (y_test) with predicted response values (y_pred) \n",
    "print(\"Gaussian Naive Bayes model accuracy(in %):\", metrics.accuracy_score(y_test, y_pred)*100)"
   ]
  },
  {
   "cell_type": "code",
   "execution_count": 2,
   "metadata": {},
   "outputs": [],
   "source": []
  },
  {
   "cell_type": "code",
   "execution_count": null,
   "metadata": {},
   "outputs": [],
   "source": []
  }
 ],
 "metadata": {
  "kernelspec": {
   "display_name": "Python 3",
   "language": "python",
   "name": "python3"
  },
  "language_info": {
   "codemirror_mode": {
    "name": "ipython",
    "version": 3
   },
   "file_extension": ".py",
   "mimetype": "text/x-python",
   "name": "python",
   "nbconvert_exporter": "python",
   "pygments_lexer": "ipython3",
   "version": "3.7.1"
  }
 },
 "nbformat": 4,
 "nbformat_minor": 2
}
